{
  "nbformat": 4,
  "nbformat_minor": 0,
  "metadata": {
    "colab": {
      "name": "Untitled0.ipynb",
      "provenance": [],
      "authorship_tag": "ABX9TyMNQOT4qnpf8Y7+yrFLBQ6b",
      "include_colab_link": true
    },
    "kernelspec": {
      "name": "python3",
      "display_name": "Python 3"
    }
  },
  "cells": [
    {
      "cell_type": "markdown",
      "metadata": {
        "id": "view-in-github",
        "colab_type": "text"
      },
      "source": [
        "<a href=\"https://colab.research.google.com/github/abazabaaa/colab_tutorial/blob/main/getting_started_with_rdkit.ipynb\" target=\"_parent\"><img src=\"https://colab.research.google.com/assets/colab-badge.svg\" alt=\"Open In Colab\"/></a>"
      ]
    },
    {
      "cell_type": "code",
      "metadata": {
        "colab": {
          "base_uri": "https://localhost:8080/"
        },
        "id": "Pdj32NzaKFoI",
        "outputId": "7f2abaa5-790b-4a46-be3b-3d0a0ebb56de"
      },
      "source": [
        "url = 'https://anaconda.org/rdkit/rdkit/2018.09.1.0/download/linux-64/rdkit-2018.09.1.0-py36h71b666b_1.tar.bz2'\n",
        "!curl -L $url | tar xj lib\n",
        "!mv lib/python3.6/site-packages/rdkit /usr/local/lib/python3.6/dist-packages/\n",
        "x86 = '/usr/lib/x86_64-linux-gnu'\n",
        "!mv lib/*.so.* $x86/\n",
        "!ln -s $x86/libboost_python3-py36.so.1.65.1 $x86/libboost_python3.so.1.65.1\n",
        "import sys\n",
        "sys.path.append('/usr/local/lib/python3.6/dist-packages/')\n"
      ],
      "execution_count": 5,
      "outputs": [
        {
          "output_type": "stream",
          "text": [
            "  % Total    % Received % Xferd  Average Speed   Time    Time     Time  Current\n",
            "                                 Dload  Upload   Total   Spent    Left  Speed\n",
            "100  3717    0  3717    0     0  14519      0 --:--:-- --:--:-- --:--:-- 14519\n",
            "100 20.2M  100 20.2M    0     0  4436k      0  0:00:04  0:00:04 --:--:-- 4768k\n",
            "mv: cannot move 'lib/python3.6/site-packages/rdkit' to '/usr/local/lib/python3.6/dist-packages/rdkit': Directory not empty\n",
            "ln: failed to create symbolic link '/usr/lib/x86_64-linux-gnu/libboost_python3.so.1.65.1': File exists\n"
          ],
          "name": "stdout"
        }
      ]
    },
    {
      "cell_type": "code",
      "metadata": {
        "id": "8kKHVtnnKMHy"
      },
      "source": [
        "from rdkit import Chem\n",
        "from rdkit.Chem.Draw import IPythonConsole"
      ],
      "execution_count": 6,
      "outputs": []
    },
    {
      "cell_type": "markdown",
      "metadata": {
        "id": "ESztOLURLMtx"
      },
      "source": [
        "Now that we have made it past install... Lets convert a smiles string into an image we are familiar with.\n",
        "\n",
        "A SMILES string is a way of depicting a molecular graph with a **string**.\n",
        "\n",
        "Within python, a **string** is simply a series of letters, numbers, and symbols. Strings can be used to encode information such as a location of a file, a place in time and space, or in this case -- how a molecule is put together.\n",
        "\n",
        "There are several kinds of **strings** that useful to for encoding molecules and I have included links to papers describing them. There is a deal of debate about which is best, but that is beyond the scope of our tutorial today.\n",
        "\n",
        "SMILES:\n",
        "https://pubs.acs.org/doi/10.1021/ci00057a005\n",
        "\n",
        "SELFIES:\n",
        "https://iopscience.iop.org/article/10.1088/2632-2153/aba947"
      ]
    },
    {
      "cell_type": "code",
      "metadata": {
        "colab": {
          "base_uri": "https://localhost:8080/",
          "height": 167
        },
        "id": "2v73TaN4Ki96",
        "outputId": "372dc2f5-13cd-45a4-df39-9a3135ec5e70"
      },
      "source": [
        "## We can break the code down into pieces \"Chem\" is responsible for calling an\n",
        "## RDKit module. \"MolFromSmiles\" issues a command to run a module within RDKit.\n",
        "## ('c1ccccc1') is used to tell \"MolFromSmiles\" what smiles needs to be \n",
        "## converted.\n",
        "\n",
        "Chem.MolFromSmiles('c1ccccc1')"
      ],
      "execution_count": 7,
      "outputs": [
        {
          "output_type": "execute_result",
          "data": {
            "image/png": "[encoded data removed]",
            "text/plain": [
              "<rdkit.Chem.rdchem.Mol at 0x7fd02dc65c60>"
            ]
          },
          "metadata": {
            "tags": []
          },
          "execution_count": 7
        }
      ]
    },
    {
      "cell_type": "code",
      "metadata": {
        "colab": {
          "base_uri": "https://localhost:8080/"
        },
        "id": "JgDQNRw7K0-W",
        "outputId": "b991c641-e86f-4197-c0e0-84c68a35157c"
      },
      "source": [
        "pip install py3Dmol"
      ],
      "execution_count": 8,
      "outputs": [
        {
          "output_type": "stream",
          "text": [
            "Collecting py3Dmol\n",
            "  Downloading https://files.pythonhosted.org/packages/dd/19/dd527b0db65e730e20c3d5e5a7efbb7fbbf8d98f9debfb47962c13f479d6/py3Dmol-0.9.1-py2.py3-none-any.whl\n",
            "Installing collected packages: py3Dmol\n",
            "Successfully installed py3Dmol-0.9.1\n"
          ],
          "name": "stdout"
        }
      ]
    },
    {
      "cell_type": "code",
      "metadata": {
        "id": "6E3JLpP-LXKN"
      },
      "source": [
        "from rdkit import Chem\n",
        "from rdkit.Chem import AllChem\n",
        "from collections import defaultdict\n",
        "from rdkit.Chem import rdFMCS\n",
        "from rdkit.Chem import Draw\n",
        "from rdkit.Chem.Draw import IPythonConsole\n",
        "from rdkit.Chem import rdDistGeom\n",
        "IPythonConsole.ipython_3d = True\n",
        "\n",
        "import py3Dmol\n",
        "import matplotlib.pyplot as plt\n",
        "import subprocess"
      ],
      "execution_count": 9,
      "outputs": []
    },
    {
      "cell_type": "code",
      "metadata": {
        "colab": {
          "base_uri": "https://localhost:8080/",
          "height": 167
        },
        "id": "5Vw6P67ELcU_",
        "outputId": "d3f02b7d-018b-4ba0-80af-14d34f3274da"
      },
      "source": [
        "## Set our 2d graph of benzene equal to \"mol\"\n",
        "mol1 = Chem.MolFromSmiles('c1ccccc1')\n",
        "\n",
        "## Add explicit hydrogens (it will need this in order to be a real 3d molecule)\n",
        "mol1 = Chem.AddHs(mol1)\n",
        "\n",
        "## Embed the 3d structure in the \"mol\" we created.\n",
        "AllChem.EmbedMolecule(mol1)\n",
        "\n",
        "## Use the MMFF to optimize the geometry\n",
        "AllChem.MMFFOptimizeMolecule(mol1)\n",
        "\n",
        "## Use RDkit to see a simple representation\n",
        "mol1"
      ],
      "execution_count": 12,
      "outputs": [
        {
          "output_type": "execute_result",
          "data": {
            "image/png": "[encoded data removed]",
            "text/plain": [
              "<rdkit.Chem.rdchem.Mol at 0x7fd02daa8120>"
            ]
          },
          "metadata": {
            "tags": []
          },
          "execution_count": 12
        }
      ]
    },
    {
      "cell_type": "code",
      "metadata": {
        "colab": {
          "base_uri": "https://localhost:8080/",
          "height": 417
        },
        "id": "sSSq3CuJLe1j",
        "outputId": "77da2826-297e-4769-90b3-3ef6c4877ffb"
      },
      "source": [
        "## create a function that allows us to view the molecule in a more useful format.\n",
        "## don't worry too much about what the code does here, we will learn more later.\n",
        "def write_xyz(mol, file_name='temp.xyz'):\n",
        "  number_of_atoms = mol.GetNumAtoms()\n",
        "  symbols = [a.GetSymbol() for a in mol.GetAtoms()] \n",
        "  with open(file_name, \"w\") as file:\n",
        "    file.write(str(number_of_atoms)+\"\\n\")\n",
        "    file.write(\"title\\n\")\n",
        "    conf = mol.GetConformers()[0]\n",
        "    for atom,symbol in enumerate(symbols):\n",
        "      p = conf.GetAtomPosition(atom)\n",
        "      line = \" \".join((symbol,str(p.x),str(p.y),str(p.z),\"\\n\"))\n",
        "      file.write(line)\n",
        "\n",
        "def show_mol(file_name, animate=False):\n",
        "  xyz=open(file_name, 'r').read()\n",
        "  p = py3Dmol.view(width=400,height=400)\n",
        "  if animate:\n",
        "    p.addModelsAsFrames(xyz,'xyz')\n",
        "    p.animate({'loop': \"forward\",'reps': 5})\n",
        "    #p.animate({'loop': 'backAndForth'})\n",
        "  else:\n",
        "    p.addModel(xyz,'xyz')\n",
        "  p.setStyle({'stick':{}})\n",
        "  p.setBackgroundColor('0xeeeeee')\n",
        "  p.zoomTo()\n",
        "  p.show()\n",
        "\n",
        "## Use the function to view our molecule\n",
        "write_xyz(mol1, file_name='temp.xyz')\n",
        "show_mol('temp.xyz', animate=False)\n",
        "\n",
        "## You should see a 3d molecule below!"
      ],
      "execution_count": 13,
      "outputs": [
        {
          "output_type": "display_data",
          "data": {
            "application/3dmoljs_load.v0": "<div id=\"3dmolviewer_16143740062385466\"  style=\"position: relative; width: 400px; height: 400px\">\n        <p id=\"3dmolwarning_16143740062385466\" style=\"background-color:#ffcccc;color:black\">You appear to be running in JupyterLab (or JavaScript failed to load for some other reason).  You need to install the 3dmol extension: <br>\n        <tt>jupyter labextension install jupyterlab_3dmol</tt></p>\n        </div>\n<script>\n\nvar loadScriptAsync = function(uri){\n  return new Promise((resolve, reject) => {\n    var tag = document.createElement('script');\n    tag.src = uri;\n    tag.async = true;\n    tag.onload = () => {\n      resolve();\n    };\n  var firstScriptTag = document.getElementsByTagName('script')[0];\n  firstScriptTag.parentNode.insertBefore(tag, firstScriptTag);\n});\n};\n\nif(typeof $3Dmolpromise === 'undefined') {\n$3Dmolpromise = null;\n  $3Dmolpromise = loadScriptAsync('https://3dmol.org/build/3Dmol.js');\n}\n\nvar viewer_16143740062385466 = null;\nvar warn = document.getElementById(\"3dmolwarning_16143740062385466\");\nif(warn) {\n    warn.parentNode.removeChild(warn);\n}\n$3Dmolpromise.then(function() {\nviewer_16143740062385466 = $3Dmol.createViewer($(\"#3dmolviewer_16143740062385466\"),{backgroundColor:\"white\"});\nviewer_16143740062385466.zoomTo();\n\tviewer_16143740062385466.addModel(\"12\\ntitle\\nC 0.803764023131907 -1.1398610165491139 0.014868204133082279 \\nC 1.3891140001926565 0.1260837134296622 -0.0021293670624510535 \\nC 0.5853500531190852 1.2659439942052702 -0.01700554641554783 \\nC -0.803763716575429 1.1398601938399793 -0.014883898815751497 \\nC -1.3891139010399423 -0.1260841162357076 0.0021143424564018464 \\nC -0.5853501837492431 -1.2659448224448142 0.016990371406017973 \\nH 1.4299888198164175 -2.0279432955337175 0.026473375080256753 \\nH 2.4713936085494317 0.22431919355805907 -0.0037674275937907295 \\nH 1.041404818040246 2.252260882536227 -0.030234470455991442 \\nH -1.4299876332640975 2.0279432623054037 -0.026458966588364323 \\nH -2.4713937006526487 -0.22431713915446244 0.0037837560545649685 \\nH -1.0414061875683973 -2.252260849956844 0.03024962780158046 \\n\",\"xyz\");\n\tviewer_16143740062385466.setStyle({\"stick\": {}});\n\tviewer_16143740062385466.setBackgroundColor(\"0xeeeeee\");\n\tviewer_16143740062385466.zoomTo();\nviewer_16143740062385466.render();\n});\n</script>",
            "text/html": [
              "<div id=\"3dmolviewer_16143740062385466\"  style=\"position: relative; width: 400px; height: 400px\">\n",
              "        <p id=\"3dmolwarning_16143740062385466\" style=\"background-color:#ffcccc;color:black\">You appear to be running in JupyterLab (or JavaScript failed to load for some other reason).  You need to install the 3dmol extension: <br>\n",
              "        <tt>jupyter labextension install jupyterlab_3dmol</tt></p>\n",
              "        </div>\n",
              "<script>\n",
              "\n",
              "var loadScriptAsync = function(uri){\n",
              "  return new Promise((resolve, reject) => {\n",
              "    var tag = document.createElement('script');\n",
              "    tag.src = uri;\n",
              "    tag.async = true;\n",
              "    tag.onload = () => {\n",
              "      resolve();\n",
              "    };\n",
              "  var firstScriptTag = document.getElementsByTagName('script')[0];\n",
              "  firstScriptTag.parentNode.insertBefore(tag, firstScriptTag);\n",
              "});\n",
              "};\n",
              "\n",
              "if(typeof $3Dmolpromise === 'undefined') {\n",
              "$3Dmolpromise = null;\n",
              "  $3Dmolpromise = loadScriptAsync('https://3dmol.org/build/3Dmol.js');\n",
              "}\n",
              "\n",
              "var viewer_16143740062385466 = null;\n",
              "var warn = document.getElementById(\"3dmolwarning_16143740062385466\");\n",
              "if(warn) {\n",
              "    warn.parentNode.removeChild(warn);\n",
              "}\n",
              "$3Dmolpromise.then(function() {\n",
              "viewer_16143740062385466 = $3Dmol.createViewer($(\"#3dmolviewer_16143740062385466\"),{backgroundColor:\"white\"});\n",
              "viewer_16143740062385466.zoomTo();\n",
              "\tviewer_16143740062385466.addModel(\"12\\ntitle\\nC 0.803764023131907 -1.1398610165491139 0.014868204133082279 \\nC 1.3891140001926565 0.1260837134296622 -0.0021293670624510535 \\nC 0.5853500531190852 1.2659439942052702 -0.01700554641554783 \\nC -0.803763716575429 1.1398601938399793 -0.014883898815751497 \\nC -1.3891139010399423 -0.1260841162357076 0.0021143424564018464 \\nC -0.5853501837492431 -1.2659448224448142 0.016990371406017973 \\nH 1.4299888198164175 -2.0279432955337175 0.026473375080256753 \\nH 2.4713936085494317 0.22431919355805907 -0.0037674275937907295 \\nH 1.041404818040246 2.252260882536227 -0.030234470455991442 \\nH -1.4299876332640975 2.0279432623054037 -0.026458966588364323 \\nH -2.4713937006526487 -0.22431713915446244 0.0037837560545649685 \\nH -1.0414061875683973 -2.252260849956844 0.03024962780158046 \\n\",\"xyz\");\n",
              "\tviewer_16143740062385466.setStyle({\"stick\": {}});\n",
              "\tviewer_16143740062385466.setBackgroundColor(\"0xeeeeee\");\n",
              "\tviewer_16143740062385466.zoomTo();\n",
              "viewer_16143740062385466.render();\n",
              "});\n",
              "</script>"
            ]
          },
          "metadata": {
            "tags": []
          }
        }
      ]
    },
    {
      "cell_type": "code",
      "metadata": {
        "colab": {
          "base_uri": "https://localhost:8080/",
          "height": 417
        },
        "id": "n3b6fCO0Lnky",
        "outputId": "030987e8-781b-4525-ca63-9a0393260b5d"
      },
      "source": [
        "## This will be where you put the smiles string of interest.\n",
        "## Try putting your own in from chemdraw.\n",
        "smiles_string = 'CCN(CC)C(=O)C1CN(C2CC3=CNC4=CC=CC(=C34)C2=C1)C'\n",
        "\n",
        "## Pass in your smiles_string to the conversion function\n",
        "two_dimensional_molecule = Chem.MolFromSmiles(smiles_string)\n",
        "\n",
        "## pass in your 2d molecule to sprout explicit hydrogen\n",
        "two_dimensional_molecule_with_hydrogen = Chem.AddHs(two_dimensional_molecule)\n",
        "\n",
        "## Embed the 3d structure in the \"mol\" we created.\n",
        "AllChem.EmbedMolecule(two_dimensional_molecule_with_hydrogen)\n",
        "AllChem.MMFFOptimizeMolecule(two_dimensional_molecule_with_hydrogen)\n",
        "\n",
        "## Have a look at the molecule!\n",
        "write_xyz(two_dimensional_molecule_with_hydrogen, file_name='new_mol.xyz')\n",
        "show_mol('new_mol.xyz', animate=False)"
      ],
      "execution_count": 14,
      "outputs": [
        {
          "output_type": "display_data",
          "data": {
            "application/3dmoljs_load.v0": "<div id=\"3dmolviewer_1614374020471071\"  style=\"position: relative; width: 400px; height: 400px\">\n        <p id=\"3dmolwarning_1614374020471071\" style=\"background-color:#ffcccc;color:black\">You appear to be running in JupyterLab (or JavaScript failed to load for some other reason).  You need to install the 3dmol extension: <br>\n        <tt>jupyter labextension install jupyterlab_3dmol</tt></p>\n        </div>\n<script>\n\nvar loadScriptAsync = function(uri){\n  return new Promise((resolve, reject) => {\n    var tag = document.createElement('script');\n    tag.src = uri;\n    tag.async = true;\n    tag.onload = () => {\n      resolve();\n    };\n  var firstScriptTag = document.getElementsByTagName('script')[0];\n  firstScriptTag.parentNode.insertBefore(tag, firstScriptTag);\n});\n};\n\nif(typeof $3Dmolpromise === 'undefined') {\n$3Dmolpromise = null;\n  $3Dmolpromise = loadScriptAsync('https://3dmol.org/build/3Dmol.js');\n}\n\nvar viewer_1614374020471071 = null;\nvar warn = document.getElementById(\"3dmolwarning_1614374020471071\");\nif(warn) {\n    warn.parentNode.removeChild(warn);\n}\n$3Dmolpromise.then(function() {\nviewer_1614374020471071 = $3Dmol.createViewer($(\"#3dmolviewer_1614374020471071\"),{backgroundColor:\"white\"});\nviewer_1614374020471071.zoomTo();\n\tviewer_1614374020471071.addModel(\"49\\ntitle\\nC 4.3599227660573225 2.6983215775528615 0.016753984823842123 \\nC 4.5987622117387925 1.2677146653995948 0.47389775938495343 \\nN 3.456603489452157 0.40578016653976073 0.16550013771409852 \\nC 3.489416787150593 -0.2971584200734369 -1.1197436393619293 \\nC 4.213007081683382 -1.6308975428841734 -1.0142564456117646 \\nC 2.4382539039217512 0.30256763969573847 1.1173843874503024 \\nO 2.4952068792856075 0.9309476271795712 2.1788452743469544 \\nC 1.2223942891688317 -0.5807350626211903 0.78922804072849 \\nC 0.5954551239810641 -1.104676528493141 2.0959111214546415 \\nN -0.6534313759949935 -1.8479160018294556 1.8212118971431 \\nC -1.690296212588528 -0.9270426210373262 1.2582766870946027 \\nC -2.8936637041531847 -1.7647187333757746 0.6767006853231065 \\nC -3.8342593070867843 -0.8894017469290663 -0.07927693017752974 \\nC -5.160894995253104 -1.0030241682204994 -0.4245151044835186 \\nN -5.500055191024629 0.12385330476918355 -1.1435312253259835 \\nC -4.411506914871286 0.9605327898507067 -1.2664190686909578 \\nC -4.243079838064505 2.198631237716734 -1.8901757697906227 \\nC -2.966946720686165 2.7800703937750213 -1.8111122030519593 \\nC -1.9070626734525105 2.1504875614918304 -1.1421186102398282 \\nC -2.0914126468222256 0.9068430359825894 -0.527320621039138 \\nC -3.368140316593409 0.33467622958067955 -0.6055529958556953 \\nC -1.1097905842136717 0.091925416729623 0.22538614782969113 \\nC 0.21209779166144882 0.2179447179149358 0.002402219132899616 \\nC -1.1156039974684762 -2.4881062554826388 3.0562127379669786 \\nH 5.224927554345329 3.323830629191663 0.2573915214778382 \\nH 4.194600159731568 2.744118065887017 -1.0645105130923433 \\nH 3.479814625173909 3.127667251594559 0.5065151874489613 \\nH 4.7851294728625176 1.2600522887314807 1.5536515100737378 \\nH 5.495027682560848 0.8598437316760145 -0.006212920638109177 \\nH 2.4757015761907435 -0.46126659872489006 -1.4912940188835198 \\nH 3.988434018195455 0.3444305627219387 -1.854866647327824 \\nH 3.733483455395121 -2.287532777018816 -0.281586647690403 \\nH 4.213206968953765 -2.140109936243607 -1.9828603652330297 \\nH 5.253301296596142 -1.492061447980354 -0.7028750669983287 \\nH 1.5406204434300972 -1.4450403463478434 0.1981690173850757 \\nH 1.3268144473788976 -1.7707355665907023 2.5732560855453617 \\nH 0.40215533803042436 -0.28973778771771563 2.8079162465270358 \\nH -2.0839695571658283 -0.3047558457569025 2.0781660017807306 \\nH -2.5142960325820543 -2.5413978721873423 0.00026207223776396956 \\nH -3.440851825386143 -2.261673602314555 1.485156356262309 \\nH -5.892993547319707 -1.7754525241887158 -0.23146869033047215 \\nH -6.414653560081986 0.31265953836747806 -1.5289712784880045 \\nH -5.055257207307698 2.6956523125869216 -2.4089784419943854 \\nH -2.797307914207062 3.748388944442882 -2.2780864002045593 \\nH -0.9437449899719699 2.6501624622831867 -1.0949463598088398 \\nH 0.5931796128423104 0.9000555072793548 -0.7507924322081209 \\nH -1.3849017304319078 -1.757154263931083 3.827067177965506 \\nH -0.3352816928121455 -3.141187626977038 3.4639889859761612 \\nH -1.9781144402525752 -3.135374382013845 2.872652956136393 \\n\",\"xyz\");\n\tviewer_1614374020471071.setStyle({\"stick\": {}});\n\tviewer_1614374020471071.setBackgroundColor(\"0xeeeeee\");\n\tviewer_1614374020471071.zoomTo();\nviewer_1614374020471071.render();\n});\n</script>",
            "text/html": [
              "<div id=\"3dmolviewer_1614374020471071\"  style=\"position: relative; width: 400px; height: 400px\">\n",
              "        <p id=\"3dmolwarning_1614374020471071\" style=\"background-color:#ffcccc;color:black\">You appear to be running in JupyterLab (or JavaScript failed to load for some other reason).  You need to install the 3dmol extension: <br>\n",
              "        <tt>jupyter labextension install jupyterlab_3dmol</tt></p>\n",
              "        </div>\n",
              "<script>\n",
              "\n",
              "var loadScriptAsync = function(uri){\n",
              "  return new Promise((resolve, reject) => {\n",
              "    var tag = document.createElement('script');\n",
              "    tag.src = uri;\n",
              "    tag.async = true;\n",
              "    tag.onload = () => {\n",
              "      resolve();\n",
              "    };\n",
              "  var firstScriptTag = document.getElementsByTagName('script')[0];\n",
              "  firstScriptTag.parentNode.insertBefore(tag, firstScriptTag);\n",
              "});\n",
              "};\n",
              "\n",
              "if(typeof $3Dmolpromise === 'undefined') {\n",
              "$3Dmolpromise = null;\n",
              "  $3Dmolpromise = loadScriptAsync('https://3dmol.org/build/3Dmol.js');\n",
              "}\n",
              "\n",
              "var viewer_1614374020471071 = null;\n",
              "var warn = document.getElementById(\"3dmolwarning_1614374020471071\");\n",
              "if(warn) {\n",
              "    warn.parentNode.removeChild(warn);\n",
              "}\n",
              "$3Dmolpromise.then(function() {\n",
              "viewer_1614374020471071 = $3Dmol.createViewer($(\"#3dmolviewer_1614374020471071\"),{backgroundColor:\"white\"});\n",
              "viewer_1614374020471071.zoomTo();\n",
              "\tviewer_1614374020471071.addModel(\"49\\ntitle\\nC 4.3599227660573225 2.6983215775528615 0.016753984823842123 \\nC 4.5987622117387925 1.2677146653995948 0.47389775938495343 \\nN 3.456603489452157 0.40578016653976073 0.16550013771409852 \\nC 3.489416787150593 -0.2971584200734369 -1.1197436393619293 \\nC 4.213007081683382 -1.6308975428841734 -1.0142564456117646 \\nC 2.4382539039217512 0.30256763969573847 1.1173843874503024 \\nO 2.4952068792856075 0.9309476271795712 2.1788452743469544 \\nC 1.2223942891688317 -0.5807350626211903 0.78922804072849 \\nC 0.5954551239810641 -1.104676528493141 2.0959111214546415 \\nN -0.6534313759949935 -1.8479160018294556 1.8212118971431 \\nC -1.690296212588528 -0.9270426210373262 1.2582766870946027 \\nC -2.8936637041531847 -1.7647187333757746 0.6767006853231065 \\nC -3.8342593070867843 -0.8894017469290663 -0.07927693017752974 \\nC -5.160894995253104 -1.0030241682204994 -0.4245151044835186 \\nN -5.500055191024629 0.12385330476918355 -1.1435312253259835 \\nC -4.411506914871286 0.9605327898507067 -1.2664190686909578 \\nC -4.243079838064505 2.198631237716734 -1.8901757697906227 \\nC -2.966946720686165 2.7800703937750213 -1.8111122030519593 \\nC -1.9070626734525105 2.1504875614918304 -1.1421186102398282 \\nC -2.0914126468222256 0.9068430359825894 -0.527320621039138 \\nC -3.368140316593409 0.33467622958067955 -0.6055529958556953 \\nC -1.1097905842136717 0.091925416729623 0.22538614782969113 \\nC 0.21209779166144882 0.2179447179149358 0.002402219132899616 \\nC -1.1156039974684762 -2.4881062554826388 3.0562127379669786 \\nH 5.224927554345329 3.323830629191663 0.2573915214778382 \\nH 4.194600159731568 2.744118065887017 -1.0645105130923433 \\nH 3.479814625173909 3.127667251594559 0.5065151874489613 \\nH 4.7851294728625176 1.2600522887314807 1.5536515100737378 \\nH 5.495027682560848 0.8598437316760145 -0.006212920638109177 \\nH 2.4757015761907435 -0.46126659872489006 -1.4912940188835198 \\nH 3.988434018195455 0.3444305627219387 -1.854866647327824 \\nH 3.733483455395121 -2.287532777018816 -0.281586647690403 \\nH 4.213206968953765 -2.140109936243607 -1.9828603652330297 \\nH 5.253301296596142 -1.492061447980354 -0.7028750669983287 \\nH 1.5406204434300972 -1.4450403463478434 0.1981690173850757 \\nH 1.3268144473788976 -1.7707355665907023 2.5732560855453617 \\nH 0.40215533803042436 -0.28973778771771563 2.8079162465270358 \\nH -2.0839695571658283 -0.3047558457569025 2.0781660017807306 \\nH -2.5142960325820543 -2.5413978721873423 0.00026207223776396956 \\nH -3.440851825386143 -2.261673602314555 1.485156356262309 \\nH -5.892993547319707 -1.7754525241887158 -0.23146869033047215 \\nH -6.414653560081986 0.31265953836747806 -1.5289712784880045 \\nH -5.055257207307698 2.6956523125869216 -2.4089784419943854 \\nH -2.797307914207062 3.748388944442882 -2.2780864002045593 \\nH -0.9437449899719699 2.6501624622831867 -1.0949463598088398 \\nH 0.5931796128423104 0.9000555072793548 -0.7507924322081209 \\nH -1.3849017304319078 -1.757154263931083 3.827067177965506 \\nH -0.3352816928121455 -3.141187626977038 3.4639889859761612 \\nH -1.9781144402525752 -3.135374382013845 2.872652956136393 \\n\",\"xyz\");\n",
              "\tviewer_1614374020471071.setStyle({\"stick\": {}});\n",
              "\tviewer_1614374020471071.setBackgroundColor(\"0xeeeeee\");\n",
              "\tviewer_1614374020471071.zoomTo();\n",
              "viewer_1614374020471071.render();\n",
              "});\n",
              "</script>"
            ]
          },
          "metadata": {
            "tags": []
          }
        }
      ]
    },
    {
      "cell_type": "markdown",
      "metadata": {
        "id": "q-WTV40GNhH5"
      },
      "source": [
        "Usually we want to be able to get an optimized structure back. The structure above may not be complete optimized and in a low energy state. Lets make a function to scan for the lowest energy state."
      ]
    },
    {
      "cell_type": "code",
      "metadata": {
        "id": "z0-mfPFMNg5N"
      },
      "source": [
        "def get_best_structure(mol,n_confs=10):\n",
        "  new_mol = Chem.Mol(mol)\n",
        "\n",
        "  AllChem.EmbedMultipleConfs(mol,numConfs=n_confs,useExpTorsionAnglePrefs=True,useBasicKnowledge=True)\n",
        "  energies = AllChem.MMFFOptimizeMoleculeConfs(mol,maxIters=2000, nonBondedThresh=100.0)\n",
        "\n",
        "  energies_list = [e[1] for e in energies]\n",
        "  min_e_index = energies_list.index(min(energies_list))\n",
        "\n",
        "  new_mol.AddConformer(mol.GetConformer(min_e_index))\n",
        "\n",
        "  return new_mol"
      ],
      "execution_count": 15,
      "outputs": []
    },
    {
      "cell_type": "code",
      "metadata": {
        "colab": {
          "base_uri": "https://localhost:8080/",
          "height": 817
        },
        "id": "2DjDKx4cNyXy",
        "outputId": "a6c2fa32-016a-4e71-cc28-fc881b097d0a"
      },
      "source": [
        "smiles_string = 'CCN(CC)C(=O)C1CN(C2CC3=CNC4=CC=CC(=C34)C2=C1)C'\n",
        "\n",
        "## Pass in your smiles_string to the conversion function to make it a \"mol\"\n",
        "two_dimensional_molecule = Chem.MolFromSmiles(smiles_string)\n",
        "\n",
        "## pass in your 2d molecule to sprout explicit hydrogen\n",
        "two_dimensional_molecule_with_hydrogen = Chem.AddHs(two_dimensional_molecule)\n",
        "\n",
        "##Use your new function minimize the structure you have created\n",
        "minimized_structure = get_best_structure(two_dimensional_molecule_with_hydrogen, n_confs=10)\n",
        "\n",
        "##Look at the minimized structure\n",
        "write_xyz(minimized_structure, file_name='new_mol1.xyz')\n",
        "show_mol('new_mol1.xyz', animate=False)\n",
        "\n",
        "##Also show the non-optimized structure\n",
        "write_xyz(two_dimensional_molecule_with_hydrogen, file_name='new_mol2.xyz')\n",
        "show_mol('new_mol2.xyz', animate=False)\n"
      ],
      "execution_count": 21,
      "outputs": [
        {
          "output_type": "display_data",
          "data": {
            "application/3dmoljs_load.v0": "<div id=\"3dmolviewer_16143750717461655\"  style=\"position: relative; width: 400px; height: 400px\">\n        <p id=\"3dmolwarning_16143750717461655\" style=\"background-color:#ffcccc;color:black\">You appear to be running in JupyterLab (or JavaScript failed to load for some other reason).  You need to install the 3dmol extension: <br>\n        <tt>jupyter labextension install jupyterlab_3dmol</tt></p>\n        </div>\n<script>\n\nvar loadScriptAsync = function(uri){\n  return new Promise((resolve, reject) => {\n    var tag = document.createElement('script');\n    tag.src = uri;\n    tag.async = true;\n    tag.onload = () => {\n      resolve();\n    };\n  var firstScriptTag = document.getElementsByTagName('script')[0];\n  firstScriptTag.parentNode.insertBefore(tag, firstScriptTag);\n});\n};\n\nif(typeof $3Dmolpromise === 'undefined') {\n$3Dmolpromise = null;\n  $3Dmolpromise = loadScriptAsync('https://3dmol.org/build/3Dmol.js');\n}\n\nvar viewer_16143750717461655 = null;\nvar warn = document.getElementById(\"3dmolwarning_16143750717461655\");\nif(warn) {\n    warn.parentNode.removeChild(warn);\n}\n$3Dmolpromise.then(function() {\nviewer_16143750717461655 = $3Dmol.createViewer($(\"#3dmolviewer_16143750717461655\"),{backgroundColor:\"white\"});\nviewer_16143750717461655.zoomTo();\n\tviewer_16143750717461655.addModel(\"49\\ntitle\\nC 5.343194674996155 0.09945416592037674 -1.5129472639872346 \\nC 4.739293472350214 1.0595395858911976 -0.500011065749851 \\nN 3.5819796756533364 0.4708013834283881 0.17661160068967965 \\nC 3.8441109194594842 -0.2373294152041911 1.43193009538938 \\nC 3.810133967302398 0.7017983475554289 2.627882237436833 \\nC 2.324092723507615 0.6547514628403187 -0.40126489025466716 \\nO 2.1980579467855637 1.270303661516178 -1.4648256196663971 \\nC 1.1011802388033438 0.033340839174793226 0.29574840508743844 \\nC 0.8883350111807239 -1.3769682993629269 -0.27848547667327794 \\nN -0.354539682625169 -1.9858630026792203 0.23733035151291274 \\nC -1.5485516329748843 -1.2011889308528811 -0.21314389338122638 \\nC -2.826251190175454 -1.6597794670137194 0.5911608514078536 \\nC -3.9795938917959828 -0.7552681913160324 0.3196974084404742 \\nC -5.343165797449449 -0.9038968859587416 0.423394544540249 \\nN -5.920212249857685 0.28940784569550654 0.042313693343144804 \\nC -4.948578481891648 1.2032287536258712 -0.3051427248507427 \\nC -5.017046613595516 2.5252784414937732 -0.7501346061001238 \\nC -3.7972682782686515 3.1675863566870457 -1.0196273282327084 \\nC -2.5656744502602127 2.5187490048766557 -0.8484117034630626 \\nC -2.514850465869 1.195648633796351 -0.39558843896116247 \\nC -3.7351416110980775 0.5589015946250373 -0.1336408512111182 \\nC -1.3262753408629677 0.34378661348687856 -0.16117850848427914 \\nC -0.12427037564697577 0.8897851881684548 0.10153976155093382 \\nC -0.43179600088765263 -3.381486208289294 -0.20415838182276796 \\nH 6.205150023716778 0.5593349567015492 -2.005838069081758 \\nH 4.61356134940322 -0.1729833915522317 -2.282488259734169 \\nH 5.677788890893373 -0.8241100801543104 -1.0295805127871487 \\nH 5.48712172594036 1.341175269491111 0.24943084794291717 \\nH 4.438650085464974 1.9812987193666372 -1.0105606578712634 \\nH 3.115702092748469 -1.0385265270287825 1.5745544276876318 \\nH 4.825193562344808 -0.7206059655820048 1.3610184364857372 \\nH 4.574358978441878 1.4806747078981657 2.5396427085629405 \\nH 3.996206453959611 0.146115852799024 3.552042102321739 \\nH 2.839560027181479 1.1998056932122494 2.7165795438808495 \\nH 1.2652659726206779 -0.010137633066762752 1.376413375299979 \\nH 0.8780736301848671 -1.3521689677953554 -1.3780831506842461 \\nH 1.7457672867117555 -2.000578727353454 0.003950613291966263 \\nH -1.7279992304868124 -1.424727299209936 -1.277213944605108 \\nH -3.104610473248623 -2.683244429007219 0.3173360526036848 \\nH -2.6131589928657464 -1.6457577551337328 1.6677838950626886 \\nH -5.956504046323731 -1.738814155963134 0.7340332642716894 \\nH -6.91337370403455 0.4732994657957645 0.021430117513575642 \\nH -5.963010701450603 3.037127330654309 -0.8874188504668481 \\nH -3.8077177340338713 4.1960481506619445 -1.3754205423086294 \\nH -1.6501524492082131 3.0532043014063874 -1.0870442175909163 \\nH 0.01129261574986391 1.9644308917994988 0.17723119778088028 \\nH -1.28152435565102 -3.8990301692596896 0.25035882421828193 \\nH -0.5115016151683581 -3.4680001672234226 -1.2937252056873223 \\nH 0.45869804033018774 -3.93441154956166 0.11684772594623129 \\n\",\"xyz\");\n\tviewer_16143750717461655.setStyle({\"stick\": {}});\n\tviewer_16143750717461655.setBackgroundColor(\"0xeeeeee\");\n\tviewer_16143750717461655.zoomTo();\nviewer_16143750717461655.render();\n});\n</script>",
            "text/html": [
              "<div id=\"3dmolviewer_16143750717461655\"  style=\"position: relative; width: 400px; height: 400px\">\n",
              "        <p id=\"3dmolwarning_16143750717461655\" style=\"background-color:#ffcccc;color:black\">You appear to be running in JupyterLab (or JavaScript failed to load for some other reason).  You need to install the 3dmol extension: <br>\n",
              "        <tt>jupyter labextension install jupyterlab_3dmol</tt></p>\n",
              "        </div>\n",
              "<script>\n",
              "\n",
              "var loadScriptAsync = function(uri){\n",
              "  return new Promise((resolve, reject) => {\n",
              "    var tag = document.createElement('script');\n",
              "    tag.src = uri;\n",
              "    tag.async = true;\n",
              "    tag.onload = () => {\n",
              "      resolve();\n",
              "    };\n",
              "  var firstScriptTag = document.getElementsByTagName('script')[0];\n",
              "  firstScriptTag.parentNode.insertBefore(tag, firstScriptTag);\n",
              "});\n",
              "};\n",
              "\n",
              "if(typeof $3Dmolpromise === 'undefined') {\n",
              "$3Dmolpromise = null;\n",
              "  $3Dmolpromise = loadScriptAsync('https://3dmol.org/build/3Dmol.js');\n",
              "}\n",
              "\n",
              "var viewer_16143750717461655 = null;\n",
              "var warn = document.getElementById(\"3dmolwarning_16143750717461655\");\n",
              "if(warn) {\n",
              "    warn.parentNode.removeChild(warn);\n",
              "}\n",
              "$3Dmolpromise.then(function() {\n",
              "viewer_16143750717461655 = $3Dmol.createViewer($(\"#3dmolviewer_16143750717461655\"),{backgroundColor:\"white\"});\n",
              "viewer_16143750717461655.zoomTo();\n",
              "\tviewer_16143750717461655.addModel(\"49\\ntitle\\nC 5.343194674996155 0.09945416592037674 -1.5129472639872346 \\nC 4.739293472350214 1.0595395858911976 -0.500011065749851 \\nN 3.5819796756533364 0.4708013834283881 0.17661160068967965 \\nC 3.8441109194594842 -0.2373294152041911 1.43193009538938 \\nC 3.810133967302398 0.7017983475554289 2.627882237436833 \\nC 2.324092723507615 0.6547514628403187 -0.40126489025466716 \\nO 2.1980579467855637 1.270303661516178 -1.4648256196663971 \\nC 1.1011802388033438 0.033340839174793226 0.29574840508743844 \\nC 0.8883350111807239 -1.3769682993629269 -0.27848547667327794 \\nN -0.354539682625169 -1.9858630026792203 0.23733035151291274 \\nC -1.5485516329748843 -1.2011889308528811 -0.21314389338122638 \\nC -2.826251190175454 -1.6597794670137194 0.5911608514078536 \\nC -3.9795938917959828 -0.7552681913160324 0.3196974084404742 \\nC -5.343165797449449 -0.9038968859587416 0.423394544540249 \\nN -5.920212249857685 0.28940784569550654 0.042313693343144804 \\nC -4.948578481891648 1.2032287536258712 -0.3051427248507427 \\nC -5.017046613595516 2.5252784414937732 -0.7501346061001238 \\nC -3.7972682782686515 3.1675863566870457 -1.0196273282327084 \\nC -2.5656744502602127 2.5187490048766557 -0.8484117034630626 \\nC -2.514850465869 1.195648633796351 -0.39558843896116247 \\nC -3.7351416110980775 0.5589015946250373 -0.1336408512111182 \\nC -1.3262753408629677 0.34378661348687856 -0.16117850848427914 \\nC -0.12427037564697577 0.8897851881684548 0.10153976155093382 \\nC -0.43179600088765263 -3.381486208289294 -0.20415838182276796 \\nH 6.205150023716778 0.5593349567015492 -2.005838069081758 \\nH 4.61356134940322 -0.1729833915522317 -2.282488259734169 \\nH 5.677788890893373 -0.8241100801543104 -1.0295805127871487 \\nH 5.48712172594036 1.341175269491111 0.24943084794291717 \\nH 4.438650085464974 1.9812987193666372 -1.0105606578712634 \\nH 3.115702092748469 -1.0385265270287825 1.5745544276876318 \\nH 4.825193562344808 -0.7206059655820048 1.3610184364857372 \\nH 4.574358978441878 1.4806747078981657 2.5396427085629405 \\nH 3.996206453959611 0.146115852799024 3.552042102321739 \\nH 2.839560027181479 1.1998056932122494 2.7165795438808495 \\nH 1.2652659726206779 -0.010137633066762752 1.376413375299979 \\nH 0.8780736301848671 -1.3521689677953554 -1.3780831506842461 \\nH 1.7457672867117555 -2.000578727353454 0.003950613291966263 \\nH -1.7279992304868124 -1.424727299209936 -1.277213944605108 \\nH -3.104610473248623 -2.683244429007219 0.3173360526036848 \\nH -2.6131589928657464 -1.6457577551337328 1.6677838950626886 \\nH -5.956504046323731 -1.738814155963134 0.7340332642716894 \\nH -6.91337370403455 0.4732994657957645 0.021430117513575642 \\nH -5.963010701450603 3.037127330654309 -0.8874188504668481 \\nH -3.8077177340338713 4.1960481506619445 -1.3754205423086294 \\nH -1.6501524492082131 3.0532043014063874 -1.0870442175909163 \\nH 0.01129261574986391 1.9644308917994988 0.17723119778088028 \\nH -1.28152435565102 -3.8990301692596896 0.25035882421828193 \\nH -0.5115016151683581 -3.4680001672234226 -1.2937252056873223 \\nH 0.45869804033018774 -3.93441154956166 0.11684772594623129 \\n\",\"xyz\");\n",
              "\tviewer_16143750717461655.setStyle({\"stick\": {}});\n",
              "\tviewer_16143750717461655.setBackgroundColor(\"0xeeeeee\");\n",
              "\tviewer_16143750717461655.zoomTo();\n",
              "viewer_16143750717461655.render();\n",
              "});\n",
              "</script>"
            ]
          },
          "metadata": {
            "tags": []
          }
        },
        {
          "output_type": "display_data",
          "data": {
            "application/3dmoljs_load.v0": "<div id=\"3dmolviewer_16143750717492921\"  style=\"position: relative; width: 400px; height: 400px\">\n        <p id=\"3dmolwarning_16143750717492921\" style=\"background-color:#ffcccc;color:black\">You appear to be running in JupyterLab (or JavaScript failed to load for some other reason).  You need to install the 3dmol extension: <br>\n        <tt>jupyter labextension install jupyterlab_3dmol</tt></p>\n        </div>\n<script>\n\nvar loadScriptAsync = function(uri){\n  return new Promise((resolve, reject) => {\n    var tag = document.createElement('script');\n    tag.src = uri;\n    tag.async = true;\n    tag.onload = () => {\n      resolve();\n    };\n  var firstScriptTag = document.getElementsByTagName('script')[0];\n  firstScriptTag.parentNode.insertBefore(tag, firstScriptTag);\n});\n};\n\nif(typeof $3Dmolpromise === 'undefined') {\n$3Dmolpromise = null;\n  $3Dmolpromise = loadScriptAsync('https://3dmol.org/build/3Dmol.js');\n}\n\nvar viewer_16143750717492921 = null;\nvar warn = document.getElementById(\"3dmolwarning_16143750717492921\");\nif(warn) {\n    warn.parentNode.removeChild(warn);\n}\n$3Dmolpromise.then(function() {\nviewer_16143750717492921 = $3Dmol.createViewer($(\"#3dmolviewer_16143750717492921\"),{backgroundColor:\"white\"});\nviewer_16143750717492921.zoomTo();\n\tviewer_16143750717492921.addModel(\"49\\ntitle\\nC -3.8890327812116983 -0.05179857238192012 -2.2642668958165793 \\nC -3.180079063845562 1.0384396404622802 -1.4767912711004403 \\nN -3.2883542888273913 0.8617606739125626 -0.024717938403950538 \\nC -4.464311547208516 1.4294488352607977 0.6398471936742631 \\nC -5.596444687512043 0.4292040317460614 0.8216295204830911 \\nC -2.4275231746384223 0.07401859364593805 0.7493610779438711 \\nO -2.6408136307182626 -0.10391134333922451 1.9526943461136346 \\nC -1.1815487460845175 -0.5254229748648063 0.07345981335579359 \\nC -0.7365116235408314 -1.7895309644019992 0.8346990018029892 \\nN 0.5337997535231934 -2.314799489634987 0.28888925084030365 \\nC 1.6412027241887177 -1.3353941557480957 0.5220698359138689 \\nC 2.9068540537372756 -1.7441987489487338 -0.32586339455240954 \\nC 3.944335625363773 -0.6746365819706982 -0.28163290904202504 \\nC 5.304508200118111 -0.667916894419131 -0.4864317849446879 \\nN 5.742340323909224 0.6291432063023819 -0.3197588213410867 \\nC 4.684277995364204 1.4570298597580582 -0.011256117027397566 \\nC 4.606979580258219 2.827380451687203 0.24656083972919593 \\nC 3.334777075892745 3.3472188401516036 0.5364932934911614 \\nC 2.1919444717705883 2.534517644276123 0.5638189205859824 \\nC 2.286162246593472 1.1638467293320607 0.2973370706802248 \\nC 3.5589048147344653 0.6508084529037126 0.013669845814405522 \\nC 1.2086882973214264 0.1473587947193961 0.28410415812210293 \\nC -0.07117878947192463 0.4965056138484483 0.05360574963035444 \\nC 0.8240830322570131 -3.6124330100611233 0.9058088212118953 \\nH -3.563094619060397 -1.0498587216888837 -1.9562559354915274 \\nH -4.972449710530157 0.0034692786077207194 -2.1296328860805414 \\nH -3.6836554885347965 0.062033428924593126 -3.33337891295859 \\nH -3.586249424826826 2.020701306185973 -1.7430519306267644 \\nH -2.1268461056701176 1.0605767558587746 -1.7668265605004494 \\nH -4.15878367552466 1.7988420184129754 1.6261299442735289 \\nH -4.813748789444581 2.2998715564423486 0.07404544283364065 \\nH -5.985238074314324 0.08419110863595794 -0.13952276928426427 \\nH -5.269437798164558 -0.45097677111351686 1.3837498716558017 \\nH -6.423013158281538 0.893188032872739 1.3690599673092427 \\nH -1.4208729338548036 -0.818635995995849 -0.9531364394230702 \\nH -1.5283538129312864 -2.542457029480709 0.7229300023564996 \\nH -0.6350353443624588 -1.5985836433026872 1.9125269817251727 \\nH 1.9254390528586494 -1.3793684468717244 1.5858895569726879 \\nH 3.3388902670691336 -2.675921246879492 0.05521390323727675 \\nH 2.6168495944193513 -1.9107693449800773 -1.3712693171821109 \\nH 6.000272710287162 -1.457257551965209 -0.7369005400062341 \\nH 6.701089585362119 0.9341819420058965 -0.41169699749501076 \\nH 5.483614728825919 3.4653803411458965 0.2297507127680371 \\nH 3.2339120743621854 4.409546007329983 0.7504341034639401 \\nH 1.2335639366972355 2.9825090707474424 0.8101767334428907 \\nH -0.34504242886322006 1.5259366036097495 -0.15410676129842968 \\nH -0.007082625938683112 -4.308311389389677 0.7426557878470529 \\nH 0.9924021437432566 -3.5303712804272367 1.9856064369801967 \\nH 1.6998100347040344 -4.084554660921229 0.4510810460857704 \\n\",\"xyz\");\n\tviewer_16143750717492921.setStyle({\"stick\": {}});\n\tviewer_16143750717492921.setBackgroundColor(\"0xeeeeee\");\n\tviewer_16143750717492921.zoomTo();\nviewer_16143750717492921.render();\n});\n</script>",
            "text/html": [
              "<div id=\"3dmolviewer_16143750717492921\"  style=\"position: relative; width: 400px; height: 400px\">\n",
              "        <p id=\"3dmolwarning_16143750717492921\" style=\"background-color:#ffcccc;color:black\">You appear to be running in JupyterLab (or JavaScript failed to load for some other reason).  You need to install the 3dmol extension: <br>\n",
              "        <tt>jupyter labextension install jupyterlab_3dmol</tt></p>\n",
              "        </div>\n",
              "<script>\n",
              "\n",
              "var loadScriptAsync = function(uri){\n",
              "  return new Promise((resolve, reject) => {\n",
              "    var tag = document.createElement('script');\n",
              "    tag.src = uri;\n",
              "    tag.async = true;\n",
              "    tag.onload = () => {\n",
              "      resolve();\n",
              "    };\n",
              "  var firstScriptTag = document.getElementsByTagName('script')[0];\n",
              "  firstScriptTag.parentNode.insertBefore(tag, firstScriptTag);\n",
              "});\n",
              "};\n",
              "\n",
              "if(typeof $3Dmolpromise === 'undefined') {\n",
              "$3Dmolpromise = null;\n",
              "  $3Dmolpromise = loadScriptAsync('https://3dmol.org/build/3Dmol.js');\n",
              "}\n",
              "\n",
              "var viewer_16143750717492921 = null;\n",
              "var warn = document.getElementById(\"3dmolwarning_16143750717492921\");\n",
              "if(warn) {\n",
              "    warn.parentNode.removeChild(warn);\n",
              "}\n",
              "$3Dmolpromise.then(function() {\n",
              "viewer_16143750717492921 = $3Dmol.createViewer($(\"#3dmolviewer_16143750717492921\"),{backgroundColor:\"white\"});\n",
              "viewer_16143750717492921.zoomTo();\n",
              "\tviewer_16143750717492921.addModel(\"49\\ntitle\\nC -3.8890327812116983 -0.05179857238192012 -2.2642668958165793 \\nC -3.180079063845562 1.0384396404622802 -1.4767912711004403 \\nN -3.2883542888273913 0.8617606739125626 -0.024717938403950538 \\nC -4.464311547208516 1.4294488352607977 0.6398471936742631 \\nC -5.596444687512043 0.4292040317460614 0.8216295204830911 \\nC -2.4275231746384223 0.07401859364593805 0.7493610779438711 \\nO -2.6408136307182626 -0.10391134333922451 1.9526943461136346 \\nC -1.1815487460845175 -0.5254229748648063 0.07345981335579359 \\nC -0.7365116235408314 -1.7895309644019992 0.8346990018029892 \\nN 0.5337997535231934 -2.314799489634987 0.28888925084030365 \\nC 1.6412027241887177 -1.3353941557480957 0.5220698359138689 \\nC 2.9068540537372756 -1.7441987489487338 -0.32586339455240954 \\nC 3.944335625363773 -0.6746365819706982 -0.28163290904202504 \\nC 5.304508200118111 -0.667916894419131 -0.4864317849446879 \\nN 5.742340323909224 0.6291432063023819 -0.3197588213410867 \\nC 4.684277995364204 1.4570298597580582 -0.011256117027397566 \\nC 4.606979580258219 2.827380451687203 0.24656083972919593 \\nC 3.334777075892745 3.3472188401516036 0.5364932934911614 \\nC 2.1919444717705883 2.534517644276123 0.5638189205859824 \\nC 2.286162246593472 1.1638467293320607 0.2973370706802248 \\nC 3.5589048147344653 0.6508084529037126 0.013669845814405522 \\nC 1.2086882973214264 0.1473587947193961 0.28410415812210293 \\nC -0.07117878947192463 0.4965056138484483 0.05360574963035444 \\nC 0.8240830322570131 -3.6124330100611233 0.9058088212118953 \\nH -3.563094619060397 -1.0498587216888837 -1.9562559354915274 \\nH -4.972449710530157 0.0034692786077207194 -2.1296328860805414 \\nH -3.6836554885347965 0.062033428924593126 -3.33337891295859 \\nH -3.586249424826826 2.020701306185973 -1.7430519306267644 \\nH -2.1268461056701176 1.0605767558587746 -1.7668265605004494 \\nH -4.15878367552466 1.7988420184129754 1.6261299442735289 \\nH -4.813748789444581 2.2998715564423486 0.07404544283364065 \\nH -5.985238074314324 0.08419110863595794 -0.13952276928426427 \\nH -5.269437798164558 -0.45097677111351686 1.3837498716558017 \\nH -6.423013158281538 0.893188032872739 1.3690599673092427 \\nH -1.4208729338548036 -0.818635995995849 -0.9531364394230702 \\nH -1.5283538129312864 -2.542457029480709 0.7229300023564996 \\nH -0.6350353443624588 -1.5985836433026872 1.9125269817251727 \\nH 1.9254390528586494 -1.3793684468717244 1.5858895569726879 \\nH 3.3388902670691336 -2.675921246879492 0.05521390323727675 \\nH 2.6168495944193513 -1.9107693449800773 -1.3712693171821109 \\nH 6.000272710287162 -1.457257551965209 -0.7369005400062341 \\nH 6.701089585362119 0.9341819420058965 -0.41169699749501076 \\nH 5.483614728825919 3.4653803411458965 0.2297507127680371 \\nH 3.2339120743621854 4.409546007329983 0.7504341034639401 \\nH 1.2335639366972355 2.9825090707474424 0.8101767334428907 \\nH -0.34504242886322006 1.5259366036097495 -0.15410676129842968 \\nH -0.007082625938683112 -4.308311389389677 0.7426557878470529 \\nH 0.9924021437432566 -3.5303712804272367 1.9856064369801967 \\nH 1.6998100347040344 -4.084554660921229 0.4510810460857704 \\n\",\"xyz\");\n",
              "\tviewer_16143750717492921.setStyle({\"stick\": {}});\n",
              "\tviewer_16143750717492921.setBackgroundColor(\"0xeeeeee\");\n",
              "\tviewer_16143750717492921.zoomTo();\n",
              "viewer_16143750717492921.render();\n",
              "});\n",
              "</script>"
            ]
          },
          "metadata": {
            "tags": []
          }
        }
      ]
    },
    {
      "cell_type": "code",
      "metadata": {
        "id": "oop3zfUKPZ8c"
      },
      "source": [
        ""
      ],
      "execution_count": null,
      "outputs": []
    }
  ]
}